{
    "cells": [
        {
            "cell_type": "markdown",
            "metadata": {
                "collapsed": true
            },
            "source": "# My Jupyter Notebook on IBM Watson Studio"
        },
        {
            "cell_type": "markdown",
            "metadata": {},
            "source": "**Bruno Afonso**\n\nData Scientist"
        },
        {
            "cell_type": "markdown",
            "metadata": {},
            "source": "_I would like to pursue a data science career because I like to solve problems and I like data._"
        },
        {
            "cell_type": "markdown",
            "metadata": {},
            "source": "### Turing test for Bruno: 'turing_test' function\nThis is a function that prints 'Bruno is a human.' if the argument is 'True' and 'This is a robot here.' if the argument is 'False'."
        },
        {
            "cell_type": "code",
            "execution_count": 12,
            "metadata": {
                "scrolled": false
            },
            "outputs": [],
            "source": "def turing_test(answer):\n    if answer == True:\n        print('Bruno is a human.')\n    if answer == False:\n        print('This is a robot here.')"
        },
        {
            "cell_type": "markdown",
            "metadata": {},
            "source": "### Verifying the function works"
        },
        {
            "cell_type": "markdown",
            "metadata": {},
            "source": "If argument is _True_"
        },
        {
            "cell_type": "code",
            "execution_count": 6,
            "metadata": {
                "scrolled": true
            },
            "outputs": [
                {
                    "name": "stdout",
                    "output_type": "stream",
                    "text": "Bruno is a human.\n"
                }
            ],
            "source": "plane_distinction(True)"
        },
        {
            "cell_type": "markdown",
            "metadata": {},
            "source": "If argument is _False_"
        },
        {
            "cell_type": "code",
            "execution_count": 9,
            "metadata": {},
            "outputs": [
                {
                    "name": "stdout",
                    "output_type": "stream",
                    "text": "This is a robot here.\n"
                }
            ],
            "source": "plane_distinction(False)"
        },
        {
            "cell_type": "markdown",
            "metadata": {},
            "source": "<hr>"
        },
        {
            "cell_type": "markdown",
            "metadata": {},
            "source": "> It works. ~~What else can I say about this awesome code?~~"
        },
        {
            "cell_type": "markdown",
            "metadata": {},
            "source": "[Check out my GitHub](https://github.com/brunoacafonso/testrepo)"
        },
        {
            "cell_type": "code",
            "execution_count": null,
            "metadata": {},
            "outputs": [],
            "source": ""
        }
    ],
    "metadata": {
        "kernelspec": {
            "display_name": "Python 3.9",
            "language": "python",
            "name": "python3"
        },
        "language_info": {
            "codemirror_mode": {
                "name": "ipython",
                "version": 3
            },
            "file_extension": ".py",
            "mimetype": "text/x-python",
            "name": "python",
            "nbconvert_exporter": "python",
            "pygments_lexer": "ipython3",
            "version": "3.9.7"
        }
    },
    "nbformat": 4,
    "nbformat_minor": 1
}