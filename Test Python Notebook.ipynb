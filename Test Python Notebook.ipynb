{
    "cells": [
        {
            "metadata": {
                "collapsed": true
            },
            "cell_type": "markdown",
            "source": "# My Jupyter Notebook on IBM Watson Studio"
        },
        {
            "metadata": {},
            "cell_type": "markdown",
            "source": "**Bruno Afonso**\n\nData Scientist"
        },
        {
            "metadata": {},
            "cell_type": "markdown",
            "source": "_I would like to pursue a data science career because I like to solve problems and I like data._"
        },
        {
            "metadata": {},
            "cell_type": "markdown",
            "source": "### Turing test for Bruno: 'turing_test' function\nThis is a function that prints 'Bruno is a human.' if the argument is 'True' and 'This is a robot here.' if the argument is 'False'."
        },
        {
            "metadata": {
                "scrolled": false
            },
            "cell_type": "code",
            "source": "def turing_test(answer):\n    if answer == True:\n        print('Bruno is a human.')\n    if answer == False:\n        print('This is a robot here.')",
            "execution_count": 12,
            "outputs": []
        },
        {
            "metadata": {},
            "cell_type": "markdown",
            "source": "### Verifying the function works"
        },
        {
            "metadata": {},
            "cell_type": "markdown",
            "source": "If argument is _True_"
        },
        {
            "metadata": {
                "scrolled": true
            },
            "cell_type": "code",
            "source": "plane_distinction(True)",
            "execution_count": 6,
            "outputs": [
                {
                    "output_type": "stream",
                    "text": "Bruno is a human.\n",
                    "name": "stdout"
                }
            ]
        },
        {
            "metadata": {},
            "cell_type": "markdown",
            "source": "If argument is _False_"
        },
        {
            "metadata": {},
            "cell_type": "code",
            "source": "plane_distinction(False)",
            "execution_count": 15,
            "outputs": [
                {
                    "output_type": "stream",
                    "text": "This is a robot here.\n",
                    "name": "stdout"
                }
            ]
        },
        {
            "metadata": {},
            "cell_type": "markdown",
            "source": "<hr>"
        },
        {
            "metadata": {},
            "cell_type": "markdown",
            "source": "> It works. ~~What else can I say about this awesome code?~~"
        },
        {
            "metadata": {},
            "cell_type": "markdown",
            "source": "[Check out my GitHub](https://github.com/brunoacafonso/testrepo)"
        },
        {
            "metadata": {},
            "cell_type": "code",
            "source": "",
            "execution_count": null,
            "outputs": []
        }
    ],
    "metadata": {
        "kernelspec": {
            "name": "python3",
            "display_name": "Python 3.9",
            "language": "python"
        },
        "language_info": {
            "name": "python",
            "version": "3.9.7",
            "mimetype": "text/x-python",
            "codemirror_mode": {
                "name": "ipython",
                "version": 3
            },
            "pygments_lexer": "ipython3",
            "nbconvert_exporter": "python",
            "file_extension": ".py"
        }
    },
    "nbformat": 4,
    "nbformat_minor": 1
}